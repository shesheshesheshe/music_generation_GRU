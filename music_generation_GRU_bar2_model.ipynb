{
 "metadata": {
  "language_info": {
   "codemirror_mode": {
    "name": "ipython",
    "version": 3
   },
   "file_extension": ".py",
   "mimetype": "text/x-python",
   "name": "python",
   "nbconvert_exporter": "python",
   "pygments_lexer": "ipython3",
   "version": 3
  },
  "orig_nbformat": 4
 },
 "nbformat": 4,
 "nbformat_minor": 2,
 "cells": [
  {
   "cell_type": "code",
   "execution_count": null,
   "metadata": {},
   "outputs": [],
   "source": [
    "import vs_new as vs\n",
    "import utils\n",
    "import pandas as pd\n",
    "import numpy as np\n",
    "import pickle"
   ]
  },
  {
   "cell_type": "code",
   "execution_count": null,
   "metadata": {},
   "outputs": [],
   "source": [
    "# which dataset are you going to feed into the BAR-2 MODEL?\n",
    "# artist_name_music_model_list options: 'bach', 'cond', 'a_minor', 'scarl', 'auto', 'c_minor'\n",
    "bar2_artist_name_list = ['bach']\n",
    "\n",
    "# what are the parameters for the BAR-2 MODEL?\n",
    "bar2_model_details = [3, # num of GRU layer?\n",
    "                      False, # time distribution layer?\n",
    "                      True, # batch normalization layer?\n",
    "                      True, # L2 regularization in GRU layers?\n",
    "                      ] "
   ]
  },
  {
   "cell_type": "code",
   "execution_count": null,
   "metadata": {},
   "outputs": [],
   "source": [
    "# Generate the music by the BAR-2 MODEL\n",
    "i = 0\n",
    "bar2_artist_name = bar2_artist_name_list[i]\n",
    "\n",
    "# Start training the BAR-2 MODEL\n",
    "bar2_model = vs.bar2_generation(artist_name=bar2_artist_name, epochs=600, model_details=bar2_model_details)\n",
    "bar2_model.model_learning_stage()\n",
    "\n",
    "# Start generating the second bar of the music\n",
    "bar2_model.generate_data(sequence_num=None, prompt=None, ans=None, ckp_name=None)"
   ]
  }
 ]
}